{
 "cells": [
  {
   "cell_type": "markdown",
   "metadata": {},
   "source": [
    "## Doubly Linked List\n"
   ]
  },
  {
   "cell_type": "code",
   "execution_count": 7,
   "metadata": {
    "collapsed": true
   },
   "outputs": [],
   "source": [
    "class node:\n",
    "    def __init__(self,data=None,next=None,prev=None):\n",
    "        self.data=data\n",
    "        self.next=next\n",
    "        self.prev=prev\n",
    "    def setdata(self,data):\n",
    "        self.data=data\n",
    "    def getdata(self):\n",
    "        return self.data\n",
    "    def setnext(self,next):\n",
    "        self.next=next\n",
    "    def getnext(self):\n",
    "        return self.next\n",
    "    def hasNext(self):\n",
    "        return self.next!=None\n",
    "    def setprev(self,prev):\n",
    "        self.prev=prev\n",
    "    def getprev(self):\n",
    "        return self.prev\n",
    "    def hasprev(self):\n",
    "        return self.prev!=None\n",
    "    def __str__(self):\n",
    "        return \"node[Data = %s]\" %(self.data,)\n",
    "    "
   ]
  },
  {
   "cell_type": "code",
   "execution_count": 8,
   "metadata": {
    "collapsed": true
   },
   "outputs": [],
   "source": [
    "class dll:\n",
    "    def __init__(self):\n",
    "        self.head = None\n",
    "        self.tail = None\n",
    "    def insertatbeg(self,data):   # insert at the beginning\n",
    "        newnode = node(data,None,None)\n",
    "        if(self.head == None):\n",
    "            self.head = self.tail = newnode\n",
    "        else:\n",
    "            newnode.setprev(None)\n",
    "            newnode.setnext(self.head)\n",
    "            self.head.setprev(newnode)\n",
    "            self.head=newnode\n",
    "    def insertatend(self,data):    # insert at the end\n",
    "        if(self.head==None):\n",
    "            self.head=node(data)\n",
    "            self.tail=self.head\n",
    "        else:\n",
    "            current = self.head\n",
    "            while current.getnext()!=None:\n",
    "                current = current.getnext()\n",
    "            current.setnext(node(data,None,current))\n",
    "            self.tail=current.getnext()\n",
    "    def getnode(self,index):        # getting a node at a index\n",
    "        current = self.head\n",
    "        if current == None:\n",
    "            return None\n",
    "        i=0\n",
    "        while i<=index:\n",
    "            current = current.getnext()\n",
    "            if current == None:\n",
    "                break\n",
    "            i+=1\n",
    "        return current\n",
    "    def insertatpos(self,index,data):   # inserting at a particular position\n",
    "        newnode=node(data)\n",
    "        if self.head == None or index == 0:\n",
    "            self.insertatbeg(data)\n",
    "        elif index>0:\n",
    "            temp = self.getnode(index)\n",
    "            if temp == None or temp.getnext()==None:\n",
    "                self.insertatend(data)\n",
    "            else:\n",
    "                newnode.setnext(self.getnode())\n",
    "                newnode.setprev()\n",
    "                temp.getnext().setprev(newnode)\n",
    "                temp.setnext(newnode)\n",
    "# deleting element at a given position\n",
    "    def del_at_pos(self,index):\n",
    "        temp=self.getnode(index)\n",
    "        if temp:\n",
    "            temp.getprev().setnext(temp.getnext())\n",
    "            if temp.getnext():\n",
    "                temp.getnext.setprev(temp.getprev())\n",
    "            temp.prev(None)\n",
    "            temp.next(None)\n",
    "            temp.data(None)\n",
    "    def del_with_data(self,data):\n",
    "        temp=self.head\n",
    "        while temp is not None:\n",
    "            if temp.getdata()==data:\n",
    "                if temp.getnext() is not None:\n",
    "                    temp.getnext.setnext(temp.getnext())\n",
    "                    temp.getnext().setprev(temp.getprev())\n",
    "                else:\n",
    "                    self.head = temp.getnext()\n",
    "                    temp.getnext().setprev(None)\n",
    "            temp =temp.getnext()        \n",
    "                \n",
    "                \n",
    "        \n",
    "            \n",
    "    def __str__(self):\n",
    "        s = \"\"\n",
    "        current = self.head\n",
    "        if current != None:\n",
    "            while current:\n",
    "                s = s + current.getdata() + str('->')\n",
    "                current = current.getnext()\n",
    "        return s[:-2]\n"
   ]
  },
  {
   "cell_type": "code",
   "execution_count": 21,
   "metadata": {
    "collapsed": true
   },
   "outputs": [],
   "source": [
    "a=dll()"
   ]
  },
  {
   "cell_type": "code",
   "execution_count": 22,
   "metadata": {
    "collapsed": false
   },
   "outputs": [],
   "source": [
    "a.insertatbeg('a')\n",
    "a.insertatbeg('b')\n",
    "a.insertatbeg('c')\n",
    "a.insertatbeg('d')"
   ]
  },
  {
   "cell_type": "code",
   "execution_count": 23,
   "metadata": {
    "collapsed": false
   },
   "outputs": [
    {
     "data": {
      "text/plain": [
       "<__main__.dll instance at 0x00000000038F2888>"
      ]
     },
     "execution_count": 23,
     "metadata": {},
     "output_type": "execute_result"
    }
   ],
   "source": [
    "a"
   ]
  },
  {
   "cell_type": "code",
   "execution_count": 24,
   "metadata": {
    "collapsed": false
   },
   "outputs": [
    {
     "name": "stdout",
     "output_type": "stream",
     "text": [
      "d->c->b->a\n"
     ]
    }
   ],
   "source": [
    "print a"
   ]
  },
  {
   "cell_type": "code",
   "execution_count": 25,
   "metadata": {
    "collapsed": true
   },
   "outputs": [],
   "source": [
    "a.insertatend('1')"
   ]
  },
  {
   "cell_type": "code",
   "execution_count": 26,
   "metadata": {
    "collapsed": false
   },
   "outputs": [
    {
     "name": "stdout",
     "output_type": "stream",
     "text": [
      "d->c->b->a->1\n"
     ]
    }
   ],
   "source": [
    "print a"
   ]
  },
  {
   "cell_type": "code",
   "execution_count": 29,
   "metadata": {
    "collapsed": false
   },
   "outputs": [],
   "source": [
    "a.insertatpos('2','a')"
   ]
  },
  {
   "cell_type": "code",
   "execution_count": 30,
   "metadata": {
    "collapsed": false
   },
   "outputs": [
    {
     "name": "stdout",
     "output_type": "stream",
     "text": [
      "d->c->b->a->1->a\n"
     ]
    }
   ],
   "source": [
    "print a"
   ]
  },
  {
   "cell_type": "code",
   "execution_count": 35,
   "metadata": {
    "collapsed": false
   },
   "outputs": [],
   "source": [
    "\n",
    "\n",
    "a.insertatpos('1','z')"
   ]
  },
  {
   "cell_type": "code",
   "execution_count": 36,
   "metadata": {
    "collapsed": false
   },
   "outputs": [
    {
     "name": "stdout",
     "output_type": "stream",
     "text": [
      "d->c->b->a->1->a->z\n"
     ]
    }
   ],
   "source": [
    "print a"
   ]
  },
  {
   "cell_type": "code",
   "execution_count": null,
   "metadata": {
    "collapsed": true
   },
   "outputs": [],
   "source": []
  }
 ],
 "metadata": {
  "kernelspec": {
   "display_name": "Python 2",
   "language": "python",
   "name": "python2"
  },
  "language_info": {
   "codemirror_mode": {
    "name": "ipython",
    "version": 2
   },
   "file_extension": ".py",
   "mimetype": "text/x-python",
   "name": "python",
   "nbconvert_exporter": "python",
   "pygments_lexer": "ipython2",
   "version": "2.7.11"
  }
 },
 "nbformat": 4,
 "nbformat_minor": 0
}
